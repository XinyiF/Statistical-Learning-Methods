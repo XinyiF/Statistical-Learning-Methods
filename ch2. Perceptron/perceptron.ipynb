{
 "cells": [
  {
   "cell_type": "markdown",
   "metadata": {},
   "source": [
    "## 感知机简介"
   ]
  },
  {
   "cell_type": "markdown",
   "metadata": {},
   "source": [
    "感知机 (perceptron) 是二类分类的线性分类模型，其输入为实例的特征向量，输 出为实例的类别，取 +1 和一1 二值。\n",
    "\n",
    "感知机对应于输入空间(特征空间)中将实例划 分为正负两类的分离超平面，属于判别模型。\n",
    "\n",
    "感知机学习旨在求出将训练数据进行线 性划分的分离超平面，为此，导入基于误分类的损失函数，利用梯度下降法对损失函 数进行极小化，求得感知机模型。 \n",
    "\n",
    "感知机学习算法具有简单而易于实现的优点，分为 原始形式和对偶形式 。 感知机预测是用学习得到的感知机模型对新的输入实例进行分 类。"
   ]
  },
  {
   "cell_type": "markdown",
   "metadata": {},
   "source": [
    "空间中任意一点$x_0$到超平面的距离：\n",
    "$$\\frac{|w*x_0+b|}{||w||}$$\n",
    "\n",
    "\n",
    "分类策略：\n",
    "$$\\begin{cases} \n",
    "w*x_i+b>0 & y_i=+1\\\\\n",
    "w*x_i+b<0 & y_i=-1\n",
    "\\end{cases}$$\n",
    "\\\n",
    "$$\\begin{cases} \n",
    "\\frac{y_i(w*x_0+b)}{||w||}>0 & 分类正确\\\\\n",
    "\\frac{y_i(w*x_0+b)}{||w||}<0 & 分类错误\n",
    "\\end{cases}$$\n",
    "\n",
    "损失函数（所有误分类点到超平面的距离）：\n",
    "$$-\\frac{\\sum_{x_i\\in M}y_i(w*x_i+b)}{||w||}$$\n",
    "M为所有误分类点的集合\n",
    "\n",
    "去掉$||w||$:\n",
    "$$\\min L(w,b)=-\\sum_{x_i\\in M}y_i(w*x_i+b)$$\n",
    "\n",
    "梯度下降:\n",
    "$$\\begin{cases} \n",
    "\\frac{dL}{dw}=-\\sum_{x_i\\in M}y_ix_i\\\\\n",
    "\\frac{dL}{db}=-\\sum_{x_i\\in M}y_i\n",
    "\\end{cases}$$\n",
    "\n"
   ]
  },
  {
   "cell_type": "markdown",
   "metadata": {},
   "source": [
    "## 模型"
   ]
  },
  {
   "cell_type": "code",
   "execution_count": 1,
   "metadata": {},
   "outputs": [],
   "source": [
    "import numpy as np\n",
    "from tqdm import tqdm"
   ]
  },
  {
   "cell_type": "code",
   "execution_count": 48,
   "metadata": {},
   "outputs": [],
   "source": [
    "class Perceptron:\n",
    "    def __init__(self, lr=1e-1, max_iteration=200):\n",
    "        self.lr = lr\n",
    "        self.max_iteration = max_iteration\n",
    "        self.w=None\n",
    "        self.b=None\n",
    "        \n",
    "    def predict(self,sample):\n",
    "        pred=np.dot(sample,self.w)+self.b\n",
    "        return 1 if pred[0]>=0 else -1\n",
    "        \n",
    "    def fit(self,x,y):\n",
    "        m,n=x.shape[0],x.shape[1]\n",
    "        # weight n*1\n",
    "        self.w=np.random.rand(n)\n",
    "        self.b=np.random.rand(1)\n",
    "        \n",
    "        epoch=0\n",
    "        for epoch in tqdm(range(self.max_iteration)):\n",
    "            for yi,xi in zip(y,x):\n",
    "                sign=self.predict(xi)\n",
    "                if sign!=yi:\n",
    "                    self.w-=self.lr*(sign*xi)\n",
    "                    self.b[0]-=self.lr*sign\n",
    "        return \n",
    "    "
   ]
  },
  {
   "cell_type": "markdown",
   "metadata": {},
   "source": [
    "## 加载数据"
   ]
  },
  {
   "cell_type": "code",
   "execution_count": 49,
   "metadata": {},
   "outputs": [],
   "source": [
    "import pandas as pd\n",
    "import matplotlib.pyplot as plt"
   ]
  },
  {
   "cell_type": "code",
   "execution_count": 55,
   "metadata": {},
   "outputs": [],
   "source": [
    "df = pd.read_csv('testSet.txt',sep='\\t',header=None)\n",
    "data=df.values\n",
    "m,n=data.shape\n",
    "for sample in data:\n",
    "    if sample[-1]==0:\n",
    "        sample[-1]=-1"
   ]
  },
  {
   "cell_type": "markdown",
   "metadata": {},
   "source": [
    "## 训练集数据分布"
   ]
  },
  {
   "cell_type": "code",
   "execution_count": 62,
   "metadata": {},
   "outputs": [
    {
     "data": {
      "image/png": "[encoded data removed]",
      "text/plain": [
       "<Figure size 432x288 with 1 Axes>"
      ]
     },
     "metadata": {
      "needs_background": "light"
     },
     "output_type": "display_data"
    }
   ],
   "source": [
    "m_train=int(m*0.8)\n",
    "Y_train=data[:m_train,-1]\n",
    "X_train=data[:m_train,:n-1]\n",
    "Y_test=data[m_train:,-1]\n",
    "X_test=data[m_train:,:n-1]\n",
    "for sample,label in zip(X_train,Y_train):\n",
    "    if label==1:\n",
    "        plt.scatter(sample[0],sample[1],c='r')\n",
    "    else:\n",
    "        plt.scatter(sample[0],sample[1],c='b')\n",
    "plt.show()"
   ]
  },
  {
   "cell_type": "markdown",
   "metadata": {},
   "source": [
    "## 训练模型"
   ]
  },
  {
   "cell_type": "code",
   "execution_count": 63,
   "metadata": {},
   "outputs": [
    {
     "name": "stderr",
     "output_type": "stream",
     "text": [
      "100%|██████████| 200/200 [00:00<00:00, 2064.69it/s]\n"
     ]
    },
    {
     "data": {
      "text/plain": [
       "array([ 0.95357032, -3.20312764])"
      ]
     },
     "execution_count": 63,
     "metadata": {},
     "output_type": "execute_result"
    }
   ],
   "source": [
    "model=Perceptron()\n",
    "model.fit(X_train,Y_train)\n",
    "model.w"
   ]
  },
  {
   "cell_type": "markdown",
   "metadata": {},
   "source": [
    "## 测试集数据分布及决策边界"
   ]
  },
  {
   "cell_type": "code",
   "execution_count": 64,
   "metadata": {},
   "outputs": [
    {
     "data": {
      "image/png": "[encoded data removed]",
      "text/plain": [
       "<Figure size 432x288 with 1 Axes>"
      ]
     },
     "metadata": {
      "needs_background": "light"
     },
     "output_type": "display_data"
    }
   ],
   "source": [
    "for sample,label in zip(X_test,Y_test):\n",
    "    if label==1:\n",
    "        plt.scatter(sample[0],sample[1],c='r')\n",
    "    else:\n",
    "        plt.scatter(sample[0],sample[1],c='b')\n",
    "\n",
    "x = np.arange(-5,5,0.05)\n",
    "y=[(-model.w[0]*i-model.b[0])/model.w[1] for i in x]\n",
    "plt.plot(x,y)\n",
    "plt.show()"
   ]
  },
  {
   "cell_type": "markdown",
   "metadata": {},
   "source": [
    "## 测试集准确率"
   ]
  },
  {
   "cell_type": "code",
   "execution_count": 65,
   "metadata": {},
   "outputs": [
    {
     "name": "stdout",
     "output_type": "stream",
     "text": [
      "准确率 =  95.0 %\n"
     ]
    }
   ],
   "source": [
    "res=[]\n",
    "for sample,actual in zip(X_test,Y_test):\n",
    "    if model.predict(sample)==actual:\n",
    "        res.append(1)\n",
    "    else:\n",
    "        res.append(0)\n",
    "print('准确率 = ',sum(res)/len(res)*100,'%')"
   ]
  }
 ],
 "metadata": {
  "kernelspec": {
   "display_name": "Python 3",
   "language": "python",
   "name": "python3"
  },
  "language_info": {
   "codemirror_mode": {
    "name": "ipython",
    "version": 3
   },
   "file_extension": ".py",
   "mimetype": "text/x-python",
   "name": "python",
   "nbconvert_exporter": "python",
   "pygments_lexer": "ipython3",
   "version": "3.8.5"
  },
  "toc": {
   "base_numbering": 1,
   "nav_menu": {},
   "number_sections": true,
   "sideBar": true,
   "skip_h1_title": false,
   "title_cell": "Table of Contents",
   "title_sidebar": "Contents",
   "toc_cell": false,
   "toc_position": {},
   "toc_section_display": true,
   "toc_window_display": false
  },
  "varInspector": {
   "cols": {
    "lenName": 16,
    "lenType": 16,
    "lenVar": 40
   },
   "kernels_config": {
    "python": {
     "delete_cmd_postfix": "",
     "delete_cmd_prefix": "del ",
     "library": "var_list.py",
     "varRefreshCmd": "print(var_dic_list())"
    },
    "r": {
     "delete_cmd_postfix": ") ",
     "delete_cmd_prefix": "rm(",
     "library": "var_list.r",
     "varRefreshCmd": "cat(var_dic_list()) "
    }
   },
   "types_to_exclude": [
    "module",
    "function",
    "builtin_function_or_method",
    "instance",
    "_Feature"
   ],
   "window_display": false
  }
 },
 "nbformat": 4,
 "nbformat_minor": 4
}
